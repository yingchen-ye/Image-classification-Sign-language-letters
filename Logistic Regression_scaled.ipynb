{
 "cells": [
  {
   "cell_type": "code",
   "execution_count": 2,
   "metadata": {},
   "outputs": [],
   "source": [
    "# resource:\n",
    "## logistic regression: https://www.kaggle.com/code/sachinsom/sign-prediction-using-pytorch#Logistic-regression"
   ]
  },
  {
   "cell_type": "code",
   "execution_count": 3,
   "metadata": {},
   "outputs": [],
   "source": [
    "#! pip install torch\n",
    "#! pip install torchvision\n",
    "#! pip install seaborn\n",
    "#! pip install torchmetrics"
   ]
  },
  {
   "cell_type": "code",
   "execution_count": 1,
   "metadata": {},
   "outputs": [],
   "source": [
    "import numpy as np\n",
    "import matplotlib.pyplot as plt\n",
    "from torchmetrics.functional import accuracy\n",
    "from sklearn.preprocessing import StandardScaler\n",
    "import torch\n",
    "from torch.utils.data import TensorDataset, DataLoader, random_split\n",
    "import matplotlib.pyplot as plt\n",
    "import torch.nn as nn\n",
    "import torch.nn.functional as F"
   ]
  },
  {
   "cell_type": "code",
   "execution_count": 2,
   "metadata": {},
   "outputs": [],
   "source": [
    "#load data, data is image represented by numpy array and labels is their relative labels\n",
    "with np.load('train_data_label.npz') as data:\n",
    "    train_data = data['train_data']\n",
    "    train_labels = data['train_label']\n",
    "\n",
    "with np.load('test_data_label.npz') as data:\n",
    "    test_data = data['test_data']\n",
    "    test_labels = data['test_label']"
   ]
  },
  {
   "cell_type": "code",
   "execution_count": 7,
   "metadata": {},
   "outputs": [
    {
     "name": "stdout",
     "output_type": "stream",
     "text": [
      "(27455, 784) (27455,) (7172, 784) (7172,)\n"
     ]
    }
   ],
   "source": [
    "#check data shape\n",
    "print(train_data.shape, train_labels.shape, test_data.shape, test_labels.shape)\n",
    "train_data = train_data.astype('float32')\n",
    "test_data  = test_data.astype('float32')"
   ]
  },
  {
   "cell_type": "code",
   "execution_count": 8,
   "metadata": {},
   "outputs": [],
   "source": [
    "#reshape the data, thus an image is represented by a 28 x 28 array\n",
    "scaler = StandardScaler()\n",
    "train_images_shaped = train_data.reshape(train_data.shape[0],1,28,28)\n",
    "test_images_shaped = test_data.reshape(test_data.shape[0],1,28,28)\n",
    "\n",
    "train_images_scaled = scaler.fit_transform(train_images_shaped.reshape(-1,train_images_shaped.shape[-1])).reshape(train_images_shaped.shape)\n",
    "test_images_scaled = scaler.transform(test_images_shaped.reshape(-1,test_images_shaped.shape[-1])).reshape(test_images_shaped.shape)"
   ]
  },
  {
   "cell_type": "code",
   "execution_count": 9,
   "metadata": {},
   "outputs": [
    {
     "name": "stdout",
     "output_type": "stream",
     "text": [
      "(27455, 1, 28, 28) (27455,) (7172, 1, 28, 28) (7172,)\n"
     ]
    }
   ],
   "source": [
    "#check shape\n",
    "print(train_images_scaled.shape, train_labels.shape, test_images_scaled.shape, test_labels.shape)"
   ]
  },
  {
   "cell_type": "code",
   "execution_count": 10,
   "metadata": {},
   "outputs": [],
   "source": [
    "#turn numpy array into pytorch tensors\n",
    "train_images_tensors = torch.from_numpy(train_images_scaled)\n",
    "train_labels_tensors = torch.from_numpy(train_labels)\n",
    "\n",
    "test_images_tensors = torch.from_numpy(test_images_scaled)\n",
    "test_labels_tensors = torch.from_numpy(test_labels)"
   ]
  },
  {
   "cell_type": "code",
   "execution_count": 11,
   "metadata": {},
   "outputs": [],
   "source": [
    "# pytorch dataset\n",
    "#this dataset will further devided into validation dataset and training dataset\n",
    "train_ds_full = TensorDataset(train_images_tensors, train_labels_tensors)\n",
    "#for prediction\n",
    "test_ds = TensorDataset(test_images_tensors, test_labels_tensors)"
   ]
  },
  {
   "cell_type": "code",
   "execution_count": 12,
   "metadata": {},
   "outputs": [
    {
     "name": "stdout",
     "output_type": "stream",
     "text": [
      "torch.Size([1, 28, 28]) tensor(3)\n"
     ]
    },
    {
     "data": {
      "text/plain": [
       "'torch.FloatTensor'"
      ]
     },
     "execution_count": 12,
     "metadata": {},
     "output_type": "execute_result"
    }
   ],
   "source": [
    "# each image is converted to a (1, 28, 28)\n",
    "# The first dimension is for the number of channels.\n",
    "# The second and third dimensions are for the size of the image, in this case, 28px by 28px.\n",
    "\n",
    "img, label = train_ds_full[0]\n",
    "print(img.shape, label)\n",
    "img.type()"
   ]
  },
  {
   "cell_type": "code",
   "execution_count": 13,
   "metadata": {},
   "outputs": [],
   "source": [
    "# Hyperparmeters\n",
    "# batch_size = 64   #baseline model\n",
    "# learning_rate = 0.001  #baseline model\n",
    "\n",
    "# Other constants\n",
    "in_channels = 1\n",
    "input_size = in_channels * 28 * 28\n",
    "num_classes = 26"
   ]
  },
  {
   "cell_type": "code",
   "execution_count": 14,
   "metadata": {},
   "outputs": [],
   "source": [
    "# split dataset to training, validation, testing sets\n",
    "random_seed = 11\n",
    "torch.manual_seed(random_seed);"
   ]
  },
  {
   "cell_type": "code",
   "execution_count": 15,
   "metadata": {},
   "outputs": [
    {
     "data": {
      "text/plain": [
       "(20000, 7455, 7172)"
      ]
     },
     "execution_count": 15,
     "metadata": {},
     "output_type": "execute_result"
    }
   ],
   "source": [
    "val_size = 7455\n",
    "train_size = len(train_ds_full) - val_size\n",
    "\n",
    "train_ds, val_ds = random_split(train_ds_full, [train_size, val_size,])\n",
    "len(train_ds), len(val_ds), len(test_ds)"
   ]
  },
  {
   "cell_type": "code",
   "execution_count": 16,
   "metadata": {},
   "outputs": [],
   "source": [
    "# model 1, with batch size 32; will use lr = 0.001, epoch = 50\n",
    "train_dl = DataLoader(train_ds, batch_size = 32, shuffle=True, num_workers=4, pin_memory=True)\n",
    "val_dl = DataLoader(val_ds, batch_size = 32, num_workers=4, pin_memory=True)\n",
    "test_dl = DataLoader(test_ds, batch_size = 32, num_workers=4, pin_memory=True)"
   ]
  },
  {
   "cell_type": "code",
   "execution_count": 17,
   "metadata": {},
   "outputs": [
    {
     "name": "stdout",
     "output_type": "stream",
     "text": [
      "torch.Size([32, 1, 28, 28])\n"
     ]
    }
   ],
   "source": [
    "#check data size for one batch \n",
    "for img, label in train_dl:\n",
    "    print(img.size())\n",
    "    break"
   ]
  },
  {
   "cell_type": "code",
   "execution_count": 18,
   "metadata": {},
   "outputs": [],
   "source": [
    "# model 2, with batch size 64; will use lr = 0.001, epoch = 50\n",
    "train_dl2 = DataLoader(train_ds, batch_size=64, shuffle=True, num_workers=4, pin_memory=True)\n",
    "val_dl2 = DataLoader(val_ds, batch_size=64, num_workers=4, pin_memory=True)\n",
    "test_dl2 = DataLoader(test_ds, batch_size=64, num_workers=4, pin_memory=True)"
   ]
  },
  {
   "cell_type": "code",
   "execution_count": 19,
   "metadata": {},
   "outputs": [],
   "source": [
    "# model 3, with batch size 32; will use lr = 0.0001, epoch = 50\n",
    "train_dl3 = DataLoader(train_ds, batch_size=32, shuffle=True, num_workers=4, pin_memory=True)\n",
    "val_dl3 = DataLoader(val_ds, batch_size=32, num_workers=4, pin_memory=True)\n",
    "test_dl3 = DataLoader(test_ds, batch_size=32, num_workers=4, pin_memory=True)"
   ]
  },
  {
   "cell_type": "code",
   "execution_count": 20,
   "metadata": {},
   "outputs": [],
   "source": [
    "# Logistic Regression Model\n",
    "class ASLModel(nn.Module):\n",
    "    def __init__(self):\n",
    "        super().__init__()\n",
    "        self.linear = nn.Linear(input_size, num_classes)\n",
    "        \n",
    "    def forward(self, xb):\n",
    "        xb = xb.reshape(-1, in_channels*28*28)\n",
    "        out = self.linear(xb)\n",
    "        return out\n",
    "    \n",
    "    def training_step(self, batch):\n",
    "        images, labels = batch \n",
    "        out = self(images)                  # Generate predictions\n",
    "        loss = F.cross_entropy(out, labels) # Calculate loss\n",
    "        return loss\n",
    "    \n",
    "    def validation_step(self, batch):\n",
    "        images, labels = batch \n",
    "        out = self(images)                    # Generate predictions\n",
    "        loss = F.cross_entropy(out, labels)   # Calculate loss\n",
    "        acc = accuracy(out, labels)           # Calculate accuracy\n",
    "        return {'val_loss': loss.detach(), 'val_acc': acc.detach()}\n",
    "        \n",
    "    def validation_epoch_end(self, outputs):\n",
    "        batch_losses = [x['val_loss'] for x in outputs]\n",
    "        epoch_loss = torch.stack(batch_losses).mean()   # Combine losses\n",
    "        batch_accs = [x['val_acc'] for x in outputs]\n",
    "        epoch_acc = torch.stack(batch_accs).mean()      # Combine accuracies\n",
    "        return {'val_loss': epoch_loss.item(), 'val_acc': epoch_acc.item()}\n",
    "    \n",
    "    def epoch_end(self, epoch, result):\n",
    "        print(\"Epoch [{}], val_loss: {:.4f}, val_acc: {:.4f}\".format(epoch, result['val_loss'], result['val_acc']))\n",
    "    \n",
    "model = ASLModel()"
   ]
  },
  {
   "cell_type": "code",
   "execution_count": 21,
   "metadata": {},
   "outputs": [],
   "source": [
    "def accuracy(outputs, labels):\n",
    "    _, preds = torch.max(outputs, 1)\n",
    "    return torch.tensor(torch.sum(preds == labels).item() / len(preds))\n",
    "def evaluate(model, val_loader):\n",
    "    outputs = [model.validation_step(batch) for batch in val_loader]\n",
    "    return model.validation_epoch_end(outputs)"
   ]
  },
  {
   "cell_type": "code",
   "execution_count": 22,
   "metadata": {},
   "outputs": [],
   "source": [
    "#attempt 1, the accuracy function seems not right (it's sensitivity)\n",
    "\n",
    "def sen_per_class(outputs, labels, model, test_dl):\n",
    "    confusion_matrix = torch.zeros(num_classes, num_classes)\n",
    "    with torch.no_grad():\n",
    "        for images, labels in test_dl:\n",
    "            outputs = model(images)\n",
    "            _, preds = torch.max(outputs, 1)\n",
    "            for t, p in zip(labels.view(-1), preds.view(-1)):\n",
    "                    confusion_matrix[t.long(), p.long()] += 1\n",
    "    return (confusion_matrix.diag()/confusion_matrix.sum(1))"
   ]
  },
  {
   "cell_type": "code",
   "execution_count": 23,
   "metadata": {},
   "outputs": [],
   "source": [
    "# attemp 2, seems right (i decide to use sensitivity now because accuracy per class is so high even before training)\n",
    "\n",
    "def sensitivity_per_class(outputs, labels, test_dl):\n",
    "    confusion_matrix = torch.zeros(num_classes, num_classes)\n",
    "    with torch.no_grad():\n",
    "        for images, labels in test_dl:\n",
    "            outputs = model(images)\n",
    "            _, preds = torch.max(outputs, 1)\n",
    "            for t, p in zip(labels.view(-1), preds.view(-1)):\n",
    "                    confusion_matrix[t.long(), p.long()] += 1\n",
    "    cm = confusion_matrix.numpy()\n",
    "\n",
    "    for i in range(cm.shape[0]):\n",
    "        TP = cm[i,i]\n",
    "        FP = cm.sum(axis=0)[i] - TP\n",
    "        FN = cm.sum(axis=1)[i] - TP\n",
    "        TN = cm.sum()- (FP + FN + TP)\n",
    "        sens = ((TP)/(TP+FN))\n",
    "        print('label: {}, Sensitivity : {}'.format(i, sens))\n",
    "    return"
   ]
  },
  {
   "cell_type": "code",
   "execution_count": 24,
   "metadata": {},
   "outputs": [
    {
     "name": "stdout",
     "output_type": "stream",
     "text": [
      "tensor([ 6,  5, 10,  0,  3, 21, 10, 14,  3,  7,  8,  8, 21, 12,  7,  4, 22,  0,\n",
      "         7,  7,  2,  0, 21,  4, 10, 15,  2, 15,  7,  1,  7,  8])\n",
      "tensor(0.)\n",
      "outputs.shape :  torch.Size([32, 26])\n",
      "Sample outputs :\n",
      " tensor([[ 9.8361e-01, -7.5713e-01,  9.5846e-01,  7.5101e-01, -8.9864e-01,\n",
      "          3.2005e-01,  8.3344e-03,  2.2606e-01, -6.5728e-01,  1.1270e-01,\n",
      "          2.4632e-01,  1.1514e-01, -6.0882e-01,  1.7807e-01, -3.0856e-01,\n",
      "         -4.7066e-01, -1.0198e+00, -1.2108e+00,  5.4845e-01,  3.0468e-01,\n",
      "         -1.5922e-01, -1.6064e+00,  2.6649e-01, -2.8990e-01, -7.1176e-01,\n",
      "          8.6573e-02],\n",
      "        [ 1.9499e-01, -4.5998e-01,  1.5875e-01, -2.0782e-01, -9.1403e-01,\n",
      "         -3.7418e-01, -1.0083e-03,  8.4247e-02, -3.9199e-02,  4.3206e-01,\n",
      "          1.5678e-01,  3.6814e-01, -6.9095e-01,  7.2116e-01, -2.7948e-01,\n",
      "         -1.1002e-01, -1.1390e-02, -3.3763e-01,  3.8621e-01, -3.1186e-01,\n",
      "          1.5026e-01, -6.0765e-02, -3.8628e-01, -3.6549e-01, -4.6185e-02,\n",
      "          9.9633e-03]])\n"
     ]
    }
   ],
   "source": [
    "#check the dataset before training in baseline model\n",
    "for images, labels in test_dl:\n",
    "    outputs = model(images)\n",
    "    print(labels)\n",
    "    print(accuracy(outputs, labels))\n",
    "    \n",
    "    break\n",
    "\n",
    "print('outputs.shape : ', outputs.shape)\n",
    "print('Sample outputs :\\n', outputs[:2].data)"
   ]
  },
  {
   "cell_type": "code",
   "execution_count": 25,
   "metadata": {},
   "outputs": [],
   "source": [
    "def fit(epochs, lr, model, train_loader, val_loader, opt_func=torch.optim.SGD):\n",
    "    history = []\n",
    "    optimizer = opt_func(model.parameters(), lr)\n",
    "    for epoch in range(epochs):\n",
    "        # Training Phase \n",
    "        for batch in train_loader:\n",
    "            loss = model.training_step(batch)\n",
    "            loss.backward()\n",
    "            optimizer.step()\n",
    "            optimizer.zero_grad()\n",
    "        # Validation phase\n",
    "        result = evaluate(model, val_loader)\n",
    "        model.epoch_end(epoch, result)\n",
    "        history.append(result)\n",
    "    return history"
   ]
  },
  {
   "cell_type": "code",
   "execution_count": 53,
   "metadata": {},
   "outputs": [],
   "source": [
    "model1 = ASLModel()\n",
    "model2 = ASLModel()\n",
    "model3 = ASLModel()"
   ]
  },
  {
   "cell_type": "code",
   "execution_count": 27,
   "metadata": {},
   "outputs": [
    {
     "name": "stdout",
     "output_type": "stream",
     "text": [
      "{'val_loss': 3.4209494590759277, 'val_acc': 0.03232728689908981} {'val_loss': 3.4332754611968994, 'val_acc': 0.034321580082178116} {'val_loss': 3.514925003051758, 'val_acc': 0.026962481439113617}\n"
     ]
    }
   ],
   "source": [
    "result_m1_0 = evaluate(model1, val_dl)\n",
    "result_m2_0 = evaluate(model2, val_dl2)\n",
    "result_m3_0 = evaluate(model3, val_dl3)\n",
    "print(result_m1_0, result_m2_0, result_m3_0)"
   ]
  },
  {
   "cell_type": "code",
   "execution_count": 28,
   "metadata": {},
   "outputs": [
    {
     "name": "stdout",
     "output_type": "stream",
     "text": [
      "Epoch [0], val_loss: 2.1041, val_acc: 0.4664\n",
      "Epoch [1], val_loss: 1.6977, val_acc: 0.6019\n",
      "Epoch [2], val_loss: 1.4739, val_acc: 0.6585\n",
      "Epoch [3], val_loss: 1.3248, val_acc: 0.6896\n",
      "Epoch [4], val_loss: 1.2149, val_acc: 0.7206\n",
      "Epoch [5], val_loss: 1.1300, val_acc: 0.7396\n",
      "Epoch [6], val_loss: 1.0611, val_acc: 0.7619\n",
      "Epoch [7], val_loss: 1.0037, val_acc: 0.7773\n",
      "Epoch [8], val_loss: 0.9543, val_acc: 0.7969\n",
      "Epoch [9], val_loss: 0.9126, val_acc: 0.8078\n",
      "Epoch [10], val_loss: 0.8749, val_acc: 0.8189\n",
      "Epoch [11], val_loss: 0.8412, val_acc: 0.8271\n",
      "Epoch [12], val_loss: 0.8114, val_acc: 0.8339\n",
      "Epoch [13], val_loss: 0.7840, val_acc: 0.8406\n",
      "Epoch [14], val_loss: 0.7596, val_acc: 0.8451\n",
      "Epoch [15], val_loss: 0.7367, val_acc: 0.8504\n",
      "Epoch [16], val_loss: 0.7157, val_acc: 0.8553\n",
      "Epoch [17], val_loss: 0.6955, val_acc: 0.8632\n",
      "Epoch [18], val_loss: 0.6772, val_acc: 0.8665\n",
      "Epoch [19], val_loss: 0.6603, val_acc: 0.8712\n",
      "Epoch [20], val_loss: 0.6438, val_acc: 0.8761\n",
      "Epoch [21], val_loss: 0.6287, val_acc: 0.8802\n",
      "Epoch [22], val_loss: 0.6146, val_acc: 0.8830\n",
      "Epoch [23], val_loss: 0.6001, val_acc: 0.8872\n",
      "Epoch [24], val_loss: 0.5876, val_acc: 0.8873\n",
      "Epoch [25], val_loss: 0.5751, val_acc: 0.8922\n",
      "Epoch [26], val_loss: 0.5634, val_acc: 0.8939\n",
      "Epoch [27], val_loss: 0.5524, val_acc: 0.8960\n",
      "Epoch [28], val_loss: 0.5415, val_acc: 0.9014\n",
      "Epoch [29], val_loss: 0.5310, val_acc: 0.9046\n",
      "Epoch [30], val_loss: 0.5211, val_acc: 0.9061\n",
      "Epoch [31], val_loss: 0.5114, val_acc: 0.9099\n",
      "Epoch [32], val_loss: 0.5028, val_acc: 0.9093\n",
      "Epoch [33], val_loss: 0.4936, val_acc: 0.9121\n",
      "Epoch [34], val_loss: 0.4851, val_acc: 0.9159\n",
      "Epoch [35], val_loss: 0.4772, val_acc: 0.9159\n",
      "Epoch [36], val_loss: 0.4691, val_acc: 0.9194\n",
      "Epoch [37], val_loss: 0.4614, val_acc: 0.9207\n",
      "Epoch [38], val_loss: 0.4541, val_acc: 0.9227\n",
      "Epoch [39], val_loss: 0.4471, val_acc: 0.9242\n",
      "Epoch [40], val_loss: 0.4401, val_acc: 0.9273\n",
      "Epoch [41], val_loss: 0.4333, val_acc: 0.9276\n",
      "Epoch [42], val_loss: 0.4267, val_acc: 0.9307\n",
      "Epoch [43], val_loss: 0.4204, val_acc: 0.9321\n",
      "Epoch [44], val_loss: 0.4143, val_acc: 0.9339\n",
      "Epoch [45], val_loss: 0.4086, val_acc: 0.9347\n",
      "Epoch [46], val_loss: 0.4026, val_acc: 0.9378\n",
      "Epoch [47], val_loss: 0.3971, val_acc: 0.9387\n",
      "Epoch [48], val_loss: 0.3914, val_acc: 0.9414\n",
      "Epoch [49], val_loss: 0.3863, val_acc: 0.9414\n"
     ]
    }
   ],
   "source": [
    "# model 1\n",
    "history_m1 = fit(50, 0.001, model1, train_dl, val_dl)"
   ]
  },
  {
   "cell_type": "code",
   "execution_count": 29,
   "metadata": {},
   "outputs": [],
   "source": [
    "sen_m1 = sen_per_class(outputs, labels, model1, test_dl)"
   ]
  },
  {
   "cell_type": "code",
   "execution_count": 30,
   "metadata": {},
   "outputs": [
    {
     "name": "stdout",
     "output_type": "stream",
     "text": [
      "Epoch [0], val_loss: 2.4948, val_acc: 0.3309\n",
      "Epoch [1], val_loss: 2.1090, val_acc: 0.4591\n",
      "Epoch [2], val_loss: 1.8699, val_acc: 0.5433\n",
      "Epoch [3], val_loss: 1.7027, val_acc: 0.5904\n",
      "Epoch [4], val_loss: 1.5786, val_acc: 0.6210\n",
      "Epoch [5], val_loss: 1.4802, val_acc: 0.6489\n",
      "Epoch [6], val_loss: 1.4002, val_acc: 0.6723\n",
      "Epoch [7], val_loss: 1.3319, val_acc: 0.6954\n",
      "Epoch [8], val_loss: 1.2739, val_acc: 0.7103\n",
      "Epoch [9], val_loss: 1.2232, val_acc: 0.7221\n",
      "Epoch [10], val_loss: 1.1785, val_acc: 0.7334\n",
      "Epoch [11], val_loss: 1.1384, val_acc: 0.7434\n",
      "Epoch [12], val_loss: 1.1021, val_acc: 0.7516\n",
      "Epoch [13], val_loss: 1.0697, val_acc: 0.7574\n",
      "Epoch [14], val_loss: 1.0394, val_acc: 0.7672\n",
      "Epoch [15], val_loss: 1.0115, val_acc: 0.7772\n",
      "Epoch [16], val_loss: 0.9861, val_acc: 0.7859\n",
      "Epoch [17], val_loss: 0.9624, val_acc: 0.7924\n",
      "Epoch [18], val_loss: 0.9404, val_acc: 0.7982\n",
      "Epoch [19], val_loss: 0.9197, val_acc: 0.8050\n",
      "Epoch [20], val_loss: 0.9002, val_acc: 0.8078\n",
      "Epoch [21], val_loss: 0.8816, val_acc: 0.8139\n",
      "Epoch [22], val_loss: 0.8649, val_acc: 0.8181\n",
      "Epoch [23], val_loss: 0.8482, val_acc: 0.8225\n",
      "Epoch [24], val_loss: 0.8328, val_acc: 0.8264\n",
      "Epoch [25], val_loss: 0.8178, val_acc: 0.8298\n",
      "Epoch [26], val_loss: 0.8036, val_acc: 0.8334\n",
      "Epoch [27], val_loss: 0.7904, val_acc: 0.8376\n",
      "Epoch [28], val_loss: 0.7775, val_acc: 0.8405\n",
      "Epoch [29], val_loss: 0.7653, val_acc: 0.8437\n",
      "Epoch [30], val_loss: 0.7533, val_acc: 0.8457\n",
      "Epoch [31], val_loss: 0.7419, val_acc: 0.8500\n",
      "Epoch [32], val_loss: 0.7313, val_acc: 0.8512\n",
      "Epoch [33], val_loss: 0.7206, val_acc: 0.8536\n",
      "Epoch [34], val_loss: 0.7105, val_acc: 0.8560\n",
      "Epoch [35], val_loss: 0.7005, val_acc: 0.8587\n",
      "Epoch [36], val_loss: 0.6912, val_acc: 0.8599\n",
      "Epoch [37], val_loss: 0.6820, val_acc: 0.8624\n",
      "Epoch [38], val_loss: 0.6731, val_acc: 0.8640\n",
      "Epoch [39], val_loss: 0.6646, val_acc: 0.8667\n",
      "Epoch [40], val_loss: 0.6562, val_acc: 0.8690\n",
      "Epoch [41], val_loss: 0.6484, val_acc: 0.8706\n",
      "Epoch [42], val_loss: 0.6404, val_acc: 0.8711\n",
      "Epoch [43], val_loss: 0.6328, val_acc: 0.8724\n",
      "Epoch [44], val_loss: 0.6255, val_acc: 0.8742\n",
      "Epoch [45], val_loss: 0.6182, val_acc: 0.8764\n",
      "Epoch [46], val_loss: 0.6111, val_acc: 0.8786\n",
      "Epoch [47], val_loss: 0.6042, val_acc: 0.8807\n",
      "Epoch [48], val_loss: 0.5977, val_acc: 0.8811\n",
      "Epoch [49], val_loss: 0.5912, val_acc: 0.8837\n"
     ]
    }
   ],
   "source": [
    "# model 2\n",
    "# Let's change dataset to the one with batch size 16, keep the learning rate and look at the results\n",
    "history_m2 = fit(50, 0.001, model2, train_dl2, val_dl2)"
   ]
  },
  {
   "cell_type": "code",
   "execution_count": 31,
   "metadata": {},
   "outputs": [],
   "source": [
    "sen_m2 = sen_per_class(outputs, labels, model2, test_dl)"
   ]
  },
  {
   "cell_type": "code",
   "execution_count": 55,
   "metadata": {},
   "outputs": [
    {
     "name": "stdout",
     "output_type": "stream",
     "text": [
      "Epoch [0], val_loss: 2.1301, val_acc: 0.4558\n",
      "Epoch [1], val_loss: 1.7132, val_acc: 0.5953\n",
      "Epoch [2], val_loss: 1.4846, val_acc: 0.6516\n",
      "Epoch [3], val_loss: 1.3355, val_acc: 0.6879\n",
      "Epoch [4], val_loss: 1.2247, val_acc: 0.7150\n",
      "Epoch [5], val_loss: 1.1388, val_acc: 0.7374\n",
      "Epoch [6], val_loss: 1.0698, val_acc: 0.7547\n",
      "Epoch [7], val_loss: 1.0117, val_acc: 0.7734\n",
      "Epoch [8], val_loss: 0.9623, val_acc: 0.7895\n",
      "Epoch [9], val_loss: 0.9189, val_acc: 0.8028\n",
      "Epoch [10], val_loss: 0.8813, val_acc: 0.8126\n",
      "Epoch [11], val_loss: 0.8478, val_acc: 0.8213\n",
      "Epoch [12], val_loss: 0.8177, val_acc: 0.8321\n",
      "Epoch [13], val_loss: 0.7905, val_acc: 0.8380\n",
      "Epoch [14], val_loss: 0.7646, val_acc: 0.8455\n",
      "Epoch [15], val_loss: 0.7418, val_acc: 0.8504\n",
      "Epoch [16], val_loss: 0.7202, val_acc: 0.8571\n",
      "Epoch [17], val_loss: 0.7007, val_acc: 0.8628\n",
      "Epoch [18], val_loss: 0.6821, val_acc: 0.8680\n",
      "Epoch [19], val_loss: 0.6642, val_acc: 0.8722\n"
     ]
    }
   ],
   "source": [
    "# model 3\n",
    "history_m3 = fit(20, 0.001, model3, train_dl3, val_dl3)"
   ]
  },
  {
   "cell_type": "code",
   "execution_count": 56,
   "metadata": {},
   "outputs": [],
   "source": [
    "sen_m3 = sen_per_class(outputs, labels, model3, test_dl)"
   ]
  },
  {
   "cell_type": "code",
   "execution_count": 57,
   "metadata": {},
   "outputs": [
    {
     "data": {
      "image/png": "[encoded data removed]",
      "text/plain": [
       "<Figure size 432x288 with 1 Axes>"
      ]
     },
     "metadata": {
      "needs_background": "light"
     },
     "output_type": "display_data"
    }
   ],
   "source": [
    "history_m1 = [result_m1_0] + history_m1\n",
    "history_m2 = [result_m2_0] + history_m2\n",
    "history_m3 = [result_m3_0] + history_m3\n",
    "accuracies_m1 = [result['val_acc'] for result in history_m1]\n",
    "accuracies_m2 = [result['val_acc'] for result in history_m2]\n",
    "accuracies_m3 = [result['val_acc'] for result in history_m3]\n",
    "plt.plot(accuracies_m1, '-x', label= 'm1')\n",
    "plt.plot(accuracies_m2, '-x', label = 'm2')\n",
    "plt.plot(accuracies_m3, '-x', label = 'm3')\n",
    "plt.xlabel('epoch')\n",
    "plt.ylabel('accuracy')\n",
    "plt.legend()\n",
    "plt.title('Accuracy vs. No. of Epochs');"
   ]
  },
  {
   "cell_type": "code",
   "execution_count": 58,
   "metadata": {},
   "outputs": [
    {
     "data": {
      "image/png": "[encoded data removed]",
      "text/plain": [
       "<Figure size 432x288 with 1 Axes>"
      ]
     },
     "metadata": {
      "needs_background": "light"
     },
     "output_type": "display_data"
    }
   ],
   "source": [
    "#loss function is cross_entropy\n",
    "history_m1 = [result_m1_0] + history_m1\n",
    "history_m2 = [result_m2_0] + history_m2\n",
    "history_m3 = [result_m3_0] + history_m3\n",
    "loss_m1 = [result['val_loss'] for result in history_m1]\n",
    "loss_m2 = [result['val_loss'] for result in history_m2]\n",
    "loss_m3 = [result['val_loss'] for result in history_m3]\n",
    "plt.plot(loss_m1, '-x', label= 'm1')\n",
    "plt.plot(loss_m2, '-x', label = 'm2')\n",
    "plt.plot(loss_m3, '-x', label = 'm3')\n",
    "plt.xlabel('epoch')\n",
    "plt.ylabel('loss')\n",
    "plt.legend()\n",
    "plt.title('Loss vs. No. of Epochs');"
   ]
  },
  {
   "cell_type": "code",
   "execution_count": 59,
   "metadata": {},
   "outputs": [
    {
     "data": {
      "text/plain": [
       "{'val_loss': 1.1158970594406128, 'val_acc': 0.6663888692855835}"
      ]
     },
     "execution_count": 59,
     "metadata": {},
     "output_type": "execute_result"
    }
   ],
   "source": [
    "# model 3 has the hightest overall accuracy and lowest loss\n",
    "# evaluate model 3 on test dataset\n",
    "result_m3 = evaluate(model3, test_dl)\n",
    "result_m3"
   ]
  },
  {
   "cell_type": "code",
   "execution_count": 61,
   "metadata": {},
   "outputs": [
    {
     "name": "stdout",
     "output_type": "stream",
     "text": [
      "[0.979 0.875 0.942 0.837 0.863 0.911 0.618 0.768 0.681   nan 0.435 0.923\n",
      " 0.437 0.509 0.606 0.911 0.756 0.285 0.256 0.508 0.368 0.408 0.607 0.625\n",
      " 0.512   nan]\n",
      "0 18\n"
     ]
    }
   ],
   "source": [
    "# model 3\n",
    "sen_m3 = sen_m3.numpy()\n",
    "print(sen_m3.round(3))\n",
    "print(np.nanargmax(sen_m3), np.nanargmin(sen_m3))  # 0 is the easiest and 19 is the most difficult\n"
   ]
  },
  {
   "cell_type": "code",
   "execution_count": 79,
   "metadata": {},
   "outputs": [],
   "source": [
    "# Prediction\n",
    "def predict_image(img, model):\n",
    "    xb = img.unsqueeze(0)\n",
    "    yb = model(xb)\n",
    "    _, preds  = torch.max(yb, dim=1)\n",
    "    return preds[0].item()"
   ]
  },
  {
   "cell_type": "code",
   "execution_count": 86,
   "metadata": {},
   "outputs": [
    {
     "name": "stdout",
     "output_type": "stream",
     "text": [
      "Label: 8 , Predicted: 8\n"
     ]
    },
    {
     "data": {
      "image/png": "[encoded data removed]",
      "text/plain": [
       "<Figure size 432x288 with 1 Axes>"
      ]
     },
     "metadata": {
      "needs_background": "light"
     },
     "output_type": "display_data"
    }
   ],
   "source": [
    "img, label = test_ds[10]\n",
    "plt.imshow(img.view(28,28), cmap='gray')\n",
    "print('Label:', label.item(), ', Predicted:', predict_image(img, model1))"
   ]
  },
  {
   "cell_type": "code",
   "execution_count": 87,
   "metadata": {},
   "outputs": [
    {
     "name": "stdout",
     "output_type": "stream",
     "text": [
      "Label: 7 , Predicted: 7\n"
     ]
    },
    {
     "data": {
      "image/png": "[encoded data removed]",
      "text/plain": [
       "<Figure size 432x288 with 1 Axes>"
      ]
     },
     "metadata": {
      "needs_background": "light"
     },
     "output_type": "display_data"
    }
   ],
   "source": [
    "img, label = test_ds[200]\n",
    "plt.imshow(img.view(28,28), cmap='gray')\n",
    "print('Label:', label.item(), ', Predicted:', predict_image(img, model1))"
   ]
  },
  {
   "cell_type": "code",
   "execution_count": 88,
   "metadata": {},
   "outputs": [
    {
     "name": "stdout",
     "output_type": "stream",
     "text": [
      "Label: 3 , Predicted: 3\n"
     ]
    },
    {
     "data": {
      "image/png": "[encoded data removed]",
      "text/plain": [
       "<Figure size 432x288 with 1 Axes>"
      ]
     },
     "metadata": {
      "needs_background": "light"
     },
     "output_type": "display_data"
    }
   ],
   "source": [
    "img, label = test_ds[1000]\n",
    "plt.imshow(img.view(28,28), cmap='gray')\n",
    "print('Label:', label.item(), ', Predicted:', predict_image(img, model1))"
   ]
  }
 ],
 "metadata": {
  "interpreter": {
   "hash": "aee8b7b246df8f9039afb4144a1f6fd8d2ca17a180786b69acc140d282b71a49"
  },
  "kernelspec": {
   "display_name": "Python 3.10.0 64-bit",
   "language": "python",
   "name": "python3"
  },
  "language_info": {
   "codemirror_mode": {
    "name": "ipython",
    "version": 3
   },
   "file_extension": ".py",
   "mimetype": "text/x-python",
   "name": "python",
   "nbconvert_exporter": "python",
   "pygments_lexer": "ipython3",
   "version": "3.10.0"
  },
  "orig_nbformat": 4
 },
 "nbformat": 4,
 "nbformat_minor": 2
}
