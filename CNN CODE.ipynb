{
 "cells": [
  {
   "cell_type": "markdown",
   "id": "b2965fe2-7824-412b-ac29-aa6a9fac8394",
   "metadata": {},
   "source": [
    "CNN MODEL CODE RETRIEVED FROM:\n",
    "https://www.kaggle.com/code/sayakdasgupta/sign-language-classification-cnn-99-40-accuracy/notebook"
   ]
  },
  {
   "cell_type": "code",
   "execution_count": 1,
   "id": "0dfb0b02-b8c0-480a-a1bd-854d2601104c",
   "metadata": {},
   "outputs": [],
   "source": [
    "#1. IMPORTING INITIAL NECESSARY LIBRARIES\n",
    "import numpy as np\n",
    "import pandas as pd\n",
    "import keras\n",
    "from keras.models import Sequential\n",
    "from keras.layers import Dense, Flatten, Conv2D, MaxPool2D, Dropout\n",
    "import matplotlib.pyplot as plt"
   ]
  },
  {
   "cell_type": "code",
   "execution_count": 2,
   "id": "bc2ce447-4a43-488e-a5c0-8bc3336299d5",
   "metadata": {
    "tags": []
   },
   "outputs": [],
   "source": [
    "#2. DATA PREPERATION / PREPROCESSING\n",
    "\n",
    "#2.1 Importing the dataset:\n",
    "with np.load('train_data_label.npz') as data:\n",
    "    X_train = data['train_data']\n",
    "    Y_train = data['train_label']\n",
    "\n",
    "with np.load('test_data_label.npz') as data:\n",
    "    X_test = data['test_data']\n",
    "    Y_test = data['test_label']"
   ]
  },
  {
   "cell_type": "code",
   "execution_count": 3,
   "id": "c6da1f9d-54aa-4008-a50d-63fa244df402",
   "metadata": {},
   "outputs": [
    {
     "name": "stdout",
     "output_type": "stream",
     "text": [
      "(27455, 784) (27455,) (7172, 784) (7172,)\n"
     ]
    }
   ],
   "source": [
    "#2.2 Checking the shape:\n",
    "print(X_train.shape, Y_train.shape, X_test.shape, Y_test.shape)"
   ]
  },
  {
   "cell_type": "code",
   "execution_count": 4,
   "id": "ffa2391c-7e2f-4b32-aab0-1f5d2248054e",
   "metadata": {},
   "outputs": [
    {
     "name": "stdout",
     "output_type": "stream",
     "text": [
      "(20591, 784) (20591,) (6864, 784) (6864,) (7172, 784) (7172,)\n"
     ]
    }
   ],
   "source": [
    "#2.3 Splitting the training data set into a training and validation set:\n",
    "from sklearn.model_selection import train_test_split\n",
    "\n",
    "X_train, X_val, Y_train, Y_val = train_test_split(X_train, Y_train, test_size = 0.25, random_state = 999)\n",
    "print(X_train.shape, Y_train.shape, X_val.shape, Y_val.shape, X_test.shape, Y_test.shape)"
   ]
  },
  {
   "cell_type": "code",
   "execution_count": 5,
   "id": "92481b0a-7c2e-4c30-b244-3c5889f9edd7",
   "metadata": {},
   "outputs": [
    {
     "name": "stdout",
     "output_type": "stream",
     "text": [
      "(20591, 28, 28, 1)\n",
      "(6864, 28, 28, 1)\n",
      "(7172, 28, 28, 1)\n"
     ]
    }
   ],
   "source": [
    "#2.4 Reshaping the data:\n",
    "X_train = X_train.reshape(-1, 28,28, 1)\n",
    "print(X_train.shape)\n",
    "\n",
    "X_val = X_val.reshape(-1, 28, 28, 1)\n",
    "print(X_val.shape)\n",
    "\n",
    "X_test = X_test.reshape(-1, 28, 28, 1)\n",
    "print(X_test.shape)"
   ]
  },
  {
   "cell_type": "code",
   "execution_count": 6,
   "id": "bd817605-86db-4725-8cde-59353be0aecc",
   "metadata": {},
   "outputs": [],
   "source": [
    "#2.5 Converting the labels to binary form:\n",
    "from sklearn.preprocessing import LabelBinarizer\n",
    "lb = LabelBinarizer()\n",
    "\n",
    "Y_train = lb.fit_transform(Y_train)\n",
    "Y_val = lb.fit_transform(Y_val)\n",
    "Y_test = lb.fit_transform(Y_test)"
   ]
  },
  {
   "cell_type": "code",
   "execution_count": 7,
   "id": "4cb7ccb9-a999-46e1-aa4c-bed97f3f0f24",
   "metadata": {},
   "outputs": [
    {
     "name": "stdout",
     "output_type": "stream",
     "text": [
      "(20591, 28, 28, 1) (20591, 24) (6864, 28, 28, 1) (6864, 24) (7172, 28, 28, 1) (7172, 24)\n"
     ]
    }
   ],
   "source": [
    "#2.6 Checking the data after reshaping and binarizing:\n",
    "print(X_train.shape, Y_train.shape, X_val.shape, Y_val.shape, X_test.shape, Y_test.shape)"
   ]
  },
  {
   "cell_type": "markdown",
   "id": "289ed983-62a6-4413-bb75-f9d4ef7f494a",
   "metadata": {},
   "source": [
    "The CNN model consist of:\n",
    "\n",
    "1. Three convolution layers - each followed by MaxPooling for better feature capture.\n",
    "2. Dense layer of 512 units.\n",
    "3. Output layer with 24 units for 24 different classes."
   ]
  },
  {
   "cell_type": "code",
   "execution_count": 8,
   "id": "dc9baab4-7451-44e4-b5af-7264c01d9ce5",
   "metadata": {},
   "outputs": [
    {
     "name": "stderr",
     "output_type": "stream",
     "text": [
      "2022-06-04 20:44:37.550680: I tensorflow/core/platform/cpu_feature_guard.cc:193] This TensorFlow binary is optimized with oneAPI Deep Neural Network Library (oneDNN) to use the following CPU instructions in performance-critical operations:  AVX2 FMA\n",
      "To enable them in other operations, rebuild TensorFlow with the appropriate compiler flags.\n"
     ]
    }
   ],
   "source": [
    "#3. BUILDING THE CNN MODEL\n",
    "\n",
    "#3.1 Convolution layers:\n",
    "model = Sequential()\n",
    "model.add(Conv2D(128, kernel_size = (5, 5),\n",
    "                 strides = 1, padding = 'same', activation = 'relu', input_shape = (28, 28, 1)))\n",
    "model.add(MaxPool2D(pool_size = (3, 3), strides = 2, padding = 'same'))\n",
    "model.add(Conv2D(64, kernel_size = (2, 2),\n",
    "                strides = 1, activation = 'relu', padding = 'same'))\n",
    "model.add(MaxPool2D((2, 2), 2, padding = 'same'))\n",
    "model.add(Conv2D(32, kernel_size = (2, 2),\n",
    "                strides = 1,activation = 'relu', padding = 'same'))\n",
    "model.add(MaxPool2D((2, 2), 2, padding = 'same'))\n",
    "          \n",
    "model.add(Flatten())"
   ]
  },
  {
   "cell_type": "code",
   "execution_count": 9,
   "id": "a3192e3f-bc88-4b8f-a5f0-c535c5cae9dd",
   "metadata": {},
   "outputs": [
    {
     "name": "stdout",
     "output_type": "stream",
     "text": [
      "Model: \"sequential\"\n",
      "_________________________________________________________________\n",
      " Layer (type)                Output Shape              Param #   \n",
      "=================================================================\n",
      " conv2d (Conv2D)             (None, 28, 28, 128)       3328      \n",
      "                                                                 \n",
      " max_pooling2d (MaxPooling2D  (None, 14, 14, 128)      0         \n",
      " )                                                               \n",
      "                                                                 \n",
      " conv2d_1 (Conv2D)           (None, 14, 14, 64)        32832     \n",
      "                                                                 \n",
      " max_pooling2d_1 (MaxPooling  (None, 7, 7, 64)         0         \n",
      " 2D)                                                             \n",
      "                                                                 \n",
      " conv2d_2 (Conv2D)           (None, 7, 7, 32)          8224      \n",
      "                                                                 \n",
      " max_pooling2d_2 (MaxPooling  (None, 4, 4, 32)         0         \n",
      " 2D)                                                             \n",
      "                                                                 \n",
      " flatten (Flatten)           (None, 512)               0         \n",
      "                                                                 \n",
      " dense (Dense)               (None, 512)               262656    \n",
      "                                                                 \n",
      " dropout (Dropout)           (None, 512)               0         \n",
      "                                                                 \n",
      " dense_1 (Dense)             (None, 24)                12312     \n",
      "                                                                 \n",
      "=================================================================\n",
      "Total params: 319,352\n",
      "Trainable params: 319,352\n",
      "Non-trainable params: 0\n",
      "_________________________________________________________________\n"
     ]
    }
   ],
   "source": [
    "#3.2 Dense and output layers:\n",
    "model.add(Dense(units = 512, activation = 'relu'))\n",
    "model.add(Dropout(rate = 0.25))\n",
    "\n",
    "model.add(Dense(units = 24, activation = 'softmax'))\n",
    "model.summary()"
   ]
  },
  {
   "cell_type": "code",
   "execution_count": 10,
   "id": "fc964b82-03bb-4d77-be8e-06c1bb069fb0",
   "metadata": {},
   "outputs": [],
   "source": [
    "#3.3 Adding the optimizer, loss and metric:\n",
    "model.compile(optimizer = 'adam', loss = 'categorical_crossentropy', metrics = ['accuracy'])"
   ]
  },
  {
   "cell_type": "code",
   "execution_count": 11,
   "id": "42dba8d5-da1e-4222-af3a-279895fd1f49",
   "metadata": {},
   "outputs": [
    {
     "name": "stdout",
     "output_type": "stream",
     "text": [
      "Epoch 1/35\n",
      "322/322 - 66s - loss: 1.7683 - accuracy: 0.5160 - 66s/epoch - 205ms/step\n",
      "Epoch 2/35\n",
      "322/322 - 71s - loss: 0.2093 - accuracy: 0.9301 - 71s/epoch - 219ms/step\n",
      "Epoch 3/35\n",
      "322/322 - 69s - loss: 0.0658 - accuracy: 0.9779 - 69s/epoch - 215ms/step\n",
      "Epoch 4/35\n",
      "322/322 - 77s - loss: 0.0348 - accuracy: 0.9883 - 77s/epoch - 238ms/step\n",
      "Epoch 5/35\n",
      "322/322 - 76s - loss: 0.0468 - accuracy: 0.9852 - 76s/epoch - 237ms/step\n",
      "Epoch 6/35\n",
      "322/322 - 72s - loss: 0.0165 - accuracy: 0.9948 - 72s/epoch - 224ms/step\n",
      "Epoch 7/35\n",
      "322/322 - 77s - loss: 0.0672 - accuracy: 0.9795 - 77s/epoch - 239ms/step\n",
      "Epoch 8/35\n",
      "322/322 - 81s - loss: 0.0505 - accuracy: 0.9850 - 81s/epoch - 253ms/step\n",
      "Epoch 9/35\n",
      "322/322 - 61s - loss: 0.0422 - accuracy: 0.9870 - 61s/epoch - 191ms/step\n",
      "Epoch 10/35\n",
      "322/322 - 70s - loss: 0.0364 - accuracy: 0.9891 - 70s/epoch - 216ms/step\n",
      "Epoch 11/35\n",
      "322/322 - 75s - loss: 0.0083 - accuracy: 0.9973 - 75s/epoch - 232ms/step\n",
      "Epoch 12/35\n",
      "322/322 - 85s - loss: 0.0032 - accuracy: 0.9989 - 85s/epoch - 265ms/step\n",
      "Epoch 13/35\n",
      "322/322 - 75s - loss: 0.0872 - accuracy: 0.9764 - 75s/epoch - 233ms/step\n",
      "Epoch 14/35\n",
      "322/322 - 75s - loss: 0.0078 - accuracy: 0.9973 - 75s/epoch - 233ms/step\n",
      "Epoch 15/35\n",
      "322/322 - 76s - loss: 0.0402 - accuracy: 0.9883 - 76s/epoch - 237ms/step\n",
      "Epoch 16/35\n",
      "322/322 - 79s - loss: 0.0415 - accuracy: 0.9876 - 79s/epoch - 246ms/step\n",
      "Epoch 17/35\n",
      "322/322 - 86s - loss: 0.0269 - accuracy: 0.9924 - 86s/epoch - 266ms/step\n",
      "Epoch 18/35\n",
      "322/322 - 71s - loss: 0.0443 - accuracy: 0.9874 - 71s/epoch - 219ms/step\n",
      "Epoch 19/35\n",
      "322/322 - 68s - loss: 0.0328 - accuracy: 0.9903 - 68s/epoch - 210ms/step\n",
      "Epoch 20/35\n",
      "322/322 - 68s - loss: 0.0287 - accuracy: 0.9916 - 68s/epoch - 210ms/step\n",
      "Epoch 21/35\n",
      "322/322 - 80s - loss: 0.0168 - accuracy: 0.9960 - 80s/epoch - 249ms/step\n",
      "Epoch 22/35\n",
      "322/322 - 88s - loss: 0.0230 - accuracy: 0.9938 - 88s/epoch - 274ms/step\n",
      "Epoch 23/35\n",
      "322/322 - 93s - loss: 0.0222 - accuracy: 0.9943 - 93s/epoch - 289ms/step\n",
      "Epoch 24/35\n",
      "322/322 - 68s - loss: 0.0406 - accuracy: 0.9907 - 68s/epoch - 210ms/step\n",
      "Epoch 25/35\n",
      "322/322 - 86s - loss: 0.0450 - accuracy: 0.9913 - 86s/epoch - 266ms/step\n",
      "Epoch 26/35\n",
      "322/322 - 85s - loss: 0.0201 - accuracy: 0.9953 - 85s/epoch - 265ms/step\n",
      "Epoch 27/35\n",
      "322/322 - 70s - loss: 0.0152 - accuracy: 0.9966 - 70s/epoch - 217ms/step\n",
      "Epoch 28/35\n",
      "322/322 - 61s - loss: 0.0035 - accuracy: 0.9987 - 61s/epoch - 189ms/step\n",
      "Epoch 29/35\n",
      "322/322 - 53s - loss: 0.0430 - accuracy: 0.9913 - 53s/epoch - 163ms/step\n",
      "Epoch 30/35\n",
      "322/322 - 52s - loss: 0.0740 - accuracy: 0.9863 - 52s/epoch - 163ms/step\n",
      "Epoch 31/35\n",
      "322/322 - 52s - loss: 0.0189 - accuracy: 0.9957 - 52s/epoch - 160ms/step\n",
      "Epoch 32/35\n",
      "322/322 - 68s - loss: 0.0088 - accuracy: 0.9982 - 68s/epoch - 212ms/step\n",
      "Epoch 33/35\n",
      "322/322 - 60s - loss: 0.0228 - accuracy: 0.9953 - 60s/epoch - 187ms/step\n",
      "Epoch 34/35\n",
      "322/322 - 52s - loss: 0.0278 - accuracy: 0.9936 - 52s/epoch - 161ms/step\n",
      "Epoch 35/35\n",
      "322/322 - 58s - loss: 0.0243 - accuracy: 0.9957 - 58s/epoch - 182ms/step\n"
     ]
    }
   ],
   "source": [
    "#4. TRAINING THE CNN MODEL\n",
    "history = model.fit(X_train, Y_train, batch_size = 64, epochs = 35, verbose = 2)"
   ]
  },
  {
   "cell_type": "markdown",
   "id": "6a5ba37a-f73c-4e29-9633-84a2bf0f96f8",
   "metadata": {},
   "source": [
    "HYPERPARAMETER TUNING CODE RETRIEVED FROM: https://www.projectpro.io/recipes/find-optimal-parameters-using-randomizedsearchcv-for-regression"
   ]
  },
  {
   "cell_type": "code",
   "execution_count": 12,
   "id": "15448d0f-f669-496b-87c3-48fea6653e15",
   "metadata": {},
   "outputs": [],
   "source": [
    "#5. HYPERPARAMETER TUNING: GRID SEARCH ON BATCH SIZE AND EPOCHS\n",
    "from sklearn.model_selection import RandomizedSearchCV\n",
    "from keras.wrappers.scikit_learn import KerasClassifier\n",
    "from scipy.stats import randint\n",
    "\n",
    "#5.1 Create function:\n",
    "def create_model():\n",
    "    tuned_model = Sequential()\n",
    "    tuned_model.add(Conv2D(128, kernel_size = (5, 5),\n",
    "                 strides = 1, padding = 'same', activation = 'relu', input_shape = (28, 28, 1)))\n",
    "    tuned_model.add(MaxPool2D(pool_size = (3, 3), strides = 2, padding = 'same'))\n",
    "    tuned_model.add(Conv2D(64, kernel_size = (2, 2),\n",
    "                strides = 1, activation = 'relu', padding = 'same'))\n",
    "    tuned_model.add(MaxPool2D((2, 2), 2, padding = 'same'))\n",
    "    tuned_model.add(Conv2D(32, kernel_size = (2, 2),\n",
    "                strides = 1,activation = 'relu', padding = 'same'))\n",
    "    tuned_model.add(MaxPool2D((2, 2), 2, padding = 'same'))\n",
    "    tuned_model.add(Flatten())\n",
    "    tuned_model.add(Dense(units = 512, activation = 'relu'))\n",
    "    tuned_model.add(Dropout(rate = 0.25))\n",
    "    tuned_model.add(Dense(units = 24, activation = 'softmax'))\n",
    "    tuned_model.compile(optimizer = 'adam', loss = 'categorical_crossentropy', metrics = ['accuracy'])\n",
    "    return tuned_model"
   ]
  },
  {
   "cell_type": "code",
   "execution_count": 13,
   "id": "b5ddd1ab-f3be-4b4b-a038-1d391ab223a8",
   "metadata": {},
   "outputs": [],
   "source": [
    "#5.2 Random seed:\n",
    "seed = 10\n",
    "np.random.seed(seed)"
   ]
  },
  {
   "cell_type": "code",
   "execution_count": 14,
   "id": "fb1d52d6-6c9e-4d12-a80c-642daeaed131",
   "metadata": {},
   "outputs": [
    {
     "name": "stderr",
     "output_type": "stream",
     "text": [
      "/var/folders/98/kttfxt7d7f1fv3shp9t9wr3c0000gn/T/ipykernel_56904/3328085265.py:2: DeprecationWarning: KerasClassifier is deprecated, use Sci-Keras (https://github.com/adriangb/scikeras) instead. See https://www.adriangb.com/scikeras/stable/migration.html for help migrating.\n",
      "  tuned_model = KerasClassifier(build_fn = create_model, verbose = 0)\n"
     ]
    }
   ],
   "source": [
    "#5.3 Create model for hyperparameter tuning:\n",
    "tuned_model = KerasClassifier(build_fn = create_model, verbose = 0)"
   ]
  },
  {
   "cell_type": "code",
   "execution_count": 15,
   "id": "b136b8f0-0afc-42f7-b887-694b5f151c1c",
   "metadata": {
    "tags": []
   },
   "outputs": [
    {
     "name": "stderr",
     "output_type": "stream",
     "text": [
      "2022-06-04 21:27:15.643950: I tensorflow/core/platform/cpu_feature_guard.cc:193] This TensorFlow binary is optimized with oneAPI Deep Neural Network Library (oneDNN) to use the following CPU instructions in performance-critical operations:  AVX2 FMA\n",
      "To enable them in other operations, rebuild TensorFlow with the appropriate compiler flags.\n",
      "2022-06-04 21:27:15.889298: I tensorflow/core/platform/cpu_feature_guard.cc:193] This TensorFlow binary is optimized with oneAPI Deep Neural Network Library (oneDNN) to use the following CPU instructions in performance-critical operations:  AVX2 FMA\n",
      "To enable them in other operations, rebuild TensorFlow with the appropriate compiler flags.\n",
      "2022-06-04 21:27:15.891056: I tensorflow/core/platform/cpu_feature_guard.cc:193] This TensorFlow binary is optimized with oneAPI Deep Neural Network Library (oneDNN) to use the following CPU instructions in performance-critical operations:  AVX2 FMA\n",
      "To enable them in other operations, rebuild TensorFlow with the appropriate compiler flags.\n",
      "2022-06-04 21:27:15.928964: I tensorflow/core/platform/cpu_feature_guard.cc:193] This TensorFlow binary is optimized with oneAPI Deep Neural Network Library (oneDNN) to use the following CPU instructions in performance-critical operations:  AVX2 FMA\n",
      "To enable them in other operations, rebuild TensorFlow with the appropriate compiler flags.\n"
     ]
    }
   ],
   "source": [
    "#5.4 Defining the randomized search hyperparameters & executing the randomized search:\n",
    "param_distributions = {'batch_size': randint.rvs(10, 100, size = 10),\n",
    "                       'epochs': randint.rvs(10, 50, size = 5)\n",
    "                      }\n",
    "\n",
    "rs = RandomizedSearchCV(estimator = tuned_model,\n",
    "                        param_distributions = param_distributions,\n",
    "                        n_iter = 10,\n",
    "                        n_jobs = -1,\n",
    "                        cv = 3\n",
    "                       )\n",
    "\n",
    "rs_result = rs.fit(X_train, Y_train)"
   ]
  },
  {
   "cell_type": "code",
   "execution_count": 17,
   "id": "d79cb886-a15a-4a5f-80d3-b4c8c829087e",
   "metadata": {},
   "outputs": [
    {
     "name": "stdout",
     "output_type": "stream",
     "text": [
      "\n",
      " The best score across ALL searched params:\n",
      " 0.9988344113032023\n",
      "\n",
      " The best parameters across ALL searched params:\n",
      " {'epochs': 26, 'batch_size': 25}\n"
     ]
    }
   ],
   "source": [
    "#5.5 Results randomized search:\n",
    "print(\"\\n The best score across ALL searched params:\\n\", rs_result.best_score_)\n",
    "print(\"\\n The best parameters across ALL searched params:\\n\", rs_result.best_params_)"
   ]
  },
  {
   "cell_type": "code",
   "execution_count": 18,
   "id": "0ffabbe7-71c0-45ad-ada8-86c7093866f6",
   "metadata": {},
   "outputs": [
    {
     "name": "stdout",
     "output_type": "stream",
     "text": [
      "Epoch 1/26\n",
      "824/824 - 60s - loss: 1.8929 - accuracy: 0.4298 - val_loss: 0.4666 - val_accuracy: 0.8460 - 60s/epoch - 73ms/step\n",
      "Epoch 2/26\n",
      "824/824 - 63s - loss: 0.3331 - accuracy: 0.8862 - val_loss: 0.0658 - val_accuracy: 0.9814 - 63s/epoch - 77ms/step\n",
      "Epoch 3/26\n",
      "824/824 - 65s - loss: 0.1581 - accuracy: 0.9475 - val_loss: 0.0903 - val_accuracy: 0.9688 - 65s/epoch - 79ms/step\n",
      "Epoch 4/26\n",
      "824/824 - 67s - loss: 0.1016 - accuracy: 0.9682 - val_loss: 0.0195 - val_accuracy: 0.9943 - 67s/epoch - 81ms/step\n",
      "Epoch 5/26\n",
      "824/824 - 59s - loss: 0.0938 - accuracy: 0.9703 - val_loss: 0.0091 - val_accuracy: 0.9978 - 59s/epoch - 72ms/step\n",
      "Epoch 6/26\n",
      "824/824 - 61s - loss: 0.0943 - accuracy: 0.9712 - val_loss: 0.0474 - val_accuracy: 0.9830 - 61s/epoch - 74ms/step\n",
      "Epoch 7/26\n",
      "824/824 - 57s - loss: 0.0728 - accuracy: 0.9784 - val_loss: 0.0465 - val_accuracy: 0.9856 - 57s/epoch - 69ms/step\n",
      "Epoch 8/26\n",
      "824/824 - 57s - loss: 0.0861 - accuracy: 0.9740 - val_loss: 0.0337 - val_accuracy: 0.9876 - 57s/epoch - 69ms/step\n",
      "Epoch 9/26\n",
      "824/824 - 57s - loss: 0.0639 - accuracy: 0.9823 - val_loss: 0.0937 - val_accuracy: 0.9717 - 57s/epoch - 69ms/step\n",
      "Epoch 10/26\n",
      "824/824 - 57s - loss: 0.0478 - accuracy: 0.9865 - val_loss: 0.0036 - val_accuracy: 0.9990 - 57s/epoch - 69ms/step\n",
      "Epoch 11/26\n",
      "824/824 - 58s - loss: 0.0842 - accuracy: 0.9782 - val_loss: 0.0335 - val_accuracy: 0.9859 - 58s/epoch - 70ms/step\n",
      "Epoch 12/26\n",
      "824/824 - 58s - loss: 0.0525 - accuracy: 0.9865 - val_loss: 0.0168 - val_accuracy: 0.9958 - 58s/epoch - 70ms/step\n",
      "Epoch 13/26\n",
      "824/824 - 71s - loss: 0.0619 - accuracy: 0.9841 - val_loss: 0.0281 - val_accuracy: 0.9905 - 71s/epoch - 86ms/step\n",
      "Epoch 14/26\n",
      "824/824 - 62s - loss: 0.0442 - accuracy: 0.9874 - val_loss: 0.0125 - val_accuracy: 0.9958 - 62s/epoch - 75ms/step\n",
      "Epoch 15/26\n",
      "824/824 - 60s - loss: 0.0596 - accuracy: 0.9852 - val_loss: 0.0015 - val_accuracy: 0.9993 - 60s/epoch - 73ms/step\n",
      "Epoch 16/26\n",
      "824/824 - 59s - loss: 0.0483 - accuracy: 0.9873 - val_loss: 0.0598 - val_accuracy: 0.9857 - 59s/epoch - 72ms/step\n",
      "Epoch 17/26\n",
      "824/824 - 60s - loss: 0.0674 - accuracy: 0.9842 - val_loss: 0.0105 - val_accuracy: 0.9972 - 60s/epoch - 73ms/step\n",
      "Epoch 18/26\n",
      "824/824 - 59s - loss: 0.0764 - accuracy: 0.9835 - val_loss: 0.1389 - val_accuracy: 0.9730 - 59s/epoch - 71ms/step\n",
      "Epoch 19/26\n",
      "824/824 - 63s - loss: 0.0425 - accuracy: 0.9918 - val_loss: 5.1834e-04 - val_accuracy: 0.9997 - 63s/epoch - 76ms/step\n",
      "Epoch 20/26\n",
      "824/824 - 72s - loss: 0.0620 - accuracy: 0.9875 - val_loss: 0.0103 - val_accuracy: 0.9965 - 72s/epoch - 87ms/step\n",
      "Epoch 21/26\n",
      "824/824 - 63s - loss: 0.0579 - accuracy: 0.9871 - val_loss: 0.0047 - val_accuracy: 0.9985 - 63s/epoch - 77ms/step\n",
      "Epoch 22/26\n",
      "824/824 - 65s - loss: 0.0488 - accuracy: 0.9895 - val_loss: 7.8748e-04 - val_accuracy: 0.9996 - 65s/epoch - 79ms/step\n",
      "Epoch 23/26\n",
      "824/824 - 73s - loss: 0.0524 - accuracy: 0.9910 - val_loss: 0.0229 - val_accuracy: 0.9949 - 73s/epoch - 89ms/step\n",
      "Epoch 24/26\n",
      "824/824 - 65s - loss: 0.0669 - accuracy: 0.9879 - val_loss: 0.0070 - val_accuracy: 0.9980 - 65s/epoch - 79ms/step\n",
      "Epoch 25/26\n",
      "824/824 - 68s - loss: 0.0535 - accuracy: 0.9902 - val_loss: 0.0131 - val_accuracy: 0.9971 - 68s/epoch - 83ms/step\n",
      "Epoch 26/26\n",
      "824/824 - 73s - loss: 0.0424 - accuracy: 0.9930 - val_loss: 4.2883e-04 - val_accuracy: 0.9999 - 73s/epoch - 89ms/step\n"
     ]
    }
   ],
   "source": [
    "#5.6 Fitting the tuned model and testing it on the validation set:\n",
    "tuned_history = tuned_model.fit(X_train, Y_train, batch_size = 25,\n",
    "                                epochs = 26,\n",
    "                                verbose = 2,\n",
    "                                validation_data = (X_val, Y_val)\n",
    "                               )"
   ]
  },
  {
   "cell_type": "markdown",
   "id": "8ef3410a-8ad7-4595-8fd1-6e2eb3067ef9",
   "metadata": {},
   "source": [
    "EVALUATION CODE RETRIEVED FROM: https://www.kaggle.com/code/gaurav3435/cnn-model/notebook"
   ]
  },
  {
   "cell_type": "code",
   "execution_count": 19,
   "id": "5dd52630-e272-489b-9d03-e8dd018f68e3",
   "metadata": {},
   "outputs": [
    {
     "data": {
      "image/png": "[encoded data removed]",
      "text/plain": [
       "<Figure size 432x288 with 2 Axes>"
      ]
     },
     "metadata": {
      "needs_background": "light"
     },
     "output_type": "display_data"
    }
   ],
   "source": [
    "#6. EVALUATING THE CNN MODEL\n",
    "\n",
    "#6.1 Plotting the accuracy / loss:\n",
    "fig, ax = plt.subplots(2,1)\n",
    "\n",
    "ax[0].plot(tuned_history.history['loss'],\n",
    "           color='b', \n",
    "           label = \"Training loss\"\n",
    "          )\n",
    "ax[0].plot(tuned_history.history['val_loss'],\n",
    "           color='r',\n",
    "           label = \"Validation loss\",\n",
    "           axes = ax[0]\n",
    "          )\n",
    "legend = ax[0].legend(loc = 'best', shadow = True)\n",
    "\n",
    "ax[1].plot(tuned_history.history['accuracy'],\n",
    "           color = 'b',\n",
    "           label = \"Training accuracy\"\n",
    "          )\n",
    "ax[1].plot(tuned_history.history['val_accuracy'],\n",
    "           color = 'r',\n",
    "           label = \"Validation accuracy\"\n",
    "          )\n",
    "legend = ax[1].legend(loc = 'best', shadow = True)"
   ]
  },
  {
   "cell_type": "code",
   "execution_count": 56,
   "id": "f419f39d-d656-4707-9907-ccb3649ba475",
   "metadata": {},
   "outputs": [
    {
     "name": "stdout",
     "output_type": "stream",
     "text": [
      "287/287 [==============================] - 5s 19ms/step\n",
      "Test accuracy:  0.9128555493586168 \n",
      "\n"
     ]
    }
   ],
   "source": [
    "#6.2 Predictions on the test set:\n",
    "Y_pred = model.predict(X_test, batch_size = 25)\n",
    "\n",
    "Y_pred_class = np.argmax(Y_pred, axis = 1)\n",
    "Y_test_class = np.argmax(Y_test, axis = 1)\n",
    "\n",
    "test_accuracy = np.mean(Y_pred_class == Y_test_class)\n",
    "\n",
    "print(\"Test accuracy: \", test_accuracy, \"\\n\")"
   ]
  },
  {
   "cell_type": "code",
   "execution_count": 57,
   "id": "b62a1538-eccb-49d1-9815-5a12624e4921",
   "metadata": {},
   "outputs": [
    {
     "data": {
      "image/png": "[encoded data removed]",
      "text/plain": [
       "<Figure size 864x864 with 2 Axes>"
      ]
     },
     "metadata": {
      "needs_background": "light"
     },
     "output_type": "display_data"
    }
   ],
   "source": [
    "#6.3 Plotting the confusion matrix:\n",
    "from sklearn.metrics import ConfusionMatrixDisplay\n",
    "from sklearn.metrics import confusion_matrix\n",
    "\n",
    "fig, ax = plt.subplots(figsize = (12, 12))\n",
    "cm = confusion_matrix(Y_test_class, Y_pred_class, normalize = 'true')\n",
    "disp = ConfusionMatrixDisplay(confusion_matrix = cm)\n",
    "disp = disp.plot(ax = ax,cmap = plt.cm.Blues)\n",
    "ax.set_title(\"Confusion Matrix\")\n",
    "plt.show()"
   ]
  },
  {
   "cell_type": "code",
   "execution_count": 58,
   "id": "6282f479-5c57-46f6-b882-3df219a02c8e",
   "metadata": {},
   "outputs": [
    {
     "name": "stdout",
     "output_type": "stream",
     "text": [
      "              precision    recall  f1-score   support\n",
      "\n",
      "           0       0.89      1.00      0.94       331\n",
      "           1       0.98      0.94      0.96       432\n",
      "           2       0.99      1.00      1.00       310\n",
      "           3       1.00      0.98      0.99       245\n",
      "           4       0.89      1.00      0.94       498\n",
      "           5       0.98      1.00      0.99       247\n",
      "           6       0.89      0.89      0.89       348\n",
      "           7       0.95      0.86      0.90       436\n",
      "           8       0.88      0.98      0.92       288\n",
      "           9       0.85      0.83      0.84       331\n",
      "          10       0.90      0.99      0.95       209\n",
      "          11       1.00      0.76      0.87       394\n",
      "          12       0.82      0.80      0.81       291\n",
      "          13       0.94      0.88      0.91       246\n",
      "          14       0.96      1.00      0.98       347\n",
      "          15       1.00      1.00      1.00       164\n",
      "          16       0.75      0.85      0.80       144\n",
      "          17       0.79      0.95      0.86       246\n",
      "          18       0.85      0.90      0.87       248\n",
      "          19       0.74      0.62      0.67       266\n",
      "          20       0.94      0.93      0.93       346\n",
      "          21       1.00      1.00      1.00       206\n",
      "          22       0.87      0.93      0.90       267\n",
      "          23       1.00      0.88      0.94       332\n",
      "\n",
      "    accuracy                           0.91      7172\n",
      "   macro avg       0.91      0.91      0.91      7172\n",
      "weighted avg       0.92      0.91      0.91      7172\n",
      "\n"
     ]
    }
   ],
   "source": [
    "#6.4 Classification report:\n",
    "from sklearn.metrics import classification_report\n",
    "\n",
    "print(classification_report(Y_test_class, Y_pred_class))"
   ]
  }
 ],
 "metadata": {
  "kernelspec": {
   "display_name": "Python 3 (ipykernel)",
   "language": "python",
   "name": "python3"
  },
  "language_info": {
   "codemirror_mode": {
    "name": "ipython",
    "version": 3
   },
   "file_extension": ".py",
   "mimetype": "text/x-python",
   "name": "python",
   "nbconvert_exporter": "python",
   "pygments_lexer": "ipython3",
   "version": "3.9.12"
  }
 },
 "nbformat": 4,
 "nbformat_minor": 5
}
